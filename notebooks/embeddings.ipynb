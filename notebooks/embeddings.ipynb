{
 "cells": [
  {
   "cell_type": "code",
   "execution_count": 40,
   "metadata": {},
   "outputs": [],
   "source": [
    "# for cpu\n",
    "# %pip install \"qdrant-client[fastembed]\"\n",
    "\n",
    "# for gpu\n",
    "# %pip install 'qdrant-client[fastembed-gpu]'"
   ]
  },
  {
   "cell_type": "code",
   "execution_count": 41,
   "metadata": {},
   "outputs": [],
   "source": [
    "from pathlib import Path\n",
    "import json\n",
    "\n",
    "product_path = \"../training-sets/MEN_FASHION_WITH_REVIEWS\"\n",
    "product_list = json.loads(Path(product_path + \"/raw_products.json\").read_text())\n",
    "products = product_list[0:50]\n"
   ]
  },
  {
   "cell_type": "code",
   "execution_count": 42,
   "metadata": {},
   "outputs": [],
   "source": [
    "import torch # type: ignore\n",
    "\n",
    "# from imagebind import data\n",
    "# from imagebind.models import imagebind_model\n",
    "# from imagebind.models.imagebind_model import ModalityType\n",
    "\n",
    "\n",
    "# device = \"cuda:0\" if torch.cuda.is_available() else \"cpu\"\n",
    "# device = \"cpu\"\n",
    "\n",
    "# # Instantiate model\n",
    "# model = imagebind_model.imagebind_huge(pretrained=True)\n",
    "# model.eval()\n",
    "# model.to(device)"
   ]
  },
  {
   "cell_type": "code",
   "execution_count": 43,
   "metadata": {},
   "outputs": [],
   "source": [
    "from urllib.parse import urlparse\n",
    "def _get_product_text_data(product: dict):\n",
    "    \n",
    "    description = product.get(\"description\", None)\n",
    "    revised_description = product.get(\"description\", None)\n",
    "    name = product.get(\"name\", None)\n",
    "    product_page_url = product.get(\"product_page_url\", None)\n",
    "    \n",
    "    \n",
    "    if description is None or name is None or product_page_url is None:\n",
    "        raise ValueError(\"description, name or product_page_url is missing\")\n",
    "    \n",
    "    \n",
    "    parsed_url = urlparse(product_page_url)\n",
    "    product_url_path = parsed_url.path\n",
    "    \n",
    "    text_to_embded = f\"{name}\\n{description}\\n{product_url_path}\"\n",
    "    \n",
    "    return text_to_embded"
   ]
  },
  {
   "cell_type": "code",
   "execution_count": 44,
   "metadata": {},
   "outputs": [],
   "source": [
    "\n",
    "\n",
    "from sentence_transformers import SentenceTransformer\n",
    "def embed_product_text_data(product: dict):\n",
    "    product_text_data = _get_product_text_data(product)\n",
    "    model = SentenceTransformer('sentence-transformers/all-MiniLM-L6-v2')\n",
    "    embeddings = model.encode(product_text_data)\n",
    "    return embeddings    \n",
    "    \n",
    "# embed_product_text_data(products[0])"
   ]
  },
  {
   "cell_type": "code",
   "execution_count": 45,
   "metadata": {},
   "outputs": [],
   "source": [
    "images_directory = \"../training-sets/MEN_FASHION_WITH_REVIEWS/images/\""
   ]
  },
  {
   "cell_type": "code",
   "execution_count": 46,
   "metadata": {},
   "outputs": [],
   "source": [
    "from transformers import ViTModel, ViTImageProcessor\n",
    "from PIL import Image\n",
    "\n",
    "def embed_product_image(product: dict):\n",
    "   \n",
    "    product_asin = product.get(\"product_asin\", None)\n",
    "        \n",
    "    if product_asin is None:\n",
    "        raise ValueError(\"product_asin is missing\")\n",
    "    \n",
    "    path_to_image = Path(f\"{images_directory}/{product_asin}.png\")\n",
    "    if not path_to_image.exists():\n",
    "        raise FileNotFoundError(f\"{path_to_image} does not exist.\")\n",
    "    \n",
    "\n",
    "    image = Image.open(path_to_image.absolute())\n",
    "\n",
    "    model = ViTModel.from_pretrained(\"google/vit-base-patch16-224\")\n",
    "    image_processor = ViTImageProcessor.from_pretrained(\"google/vit-base-patch16-224\") # type: ignore\n",
    "\n",
    "    # Load and process image\n",
    "    inputs = image_processor(images=image, return_tensors=\"pt\")\n",
    "\n",
    "    # Generate embedding\n",
    "    outputs = model(**inputs)\n",
    "    embedding = outputs.last_hidden_state[:, 0].detach().numpy()\n",
    "    \n",
    "    return embedding\n",
    "    \n",
    "# embed_product_image(products[0])"
   ]
  },
  {
   "cell_type": "markdown",
   "metadata": {},
   "source": [
    "### Embed the product text data"
   ]
  },
  {
   "cell_type": "code",
   "execution_count": 47,
   "metadata": {},
   "outputs": [
    {
     "name": "stderr",
     "output_type": "stream",
     "text": [
      "/tmp/ipykernel_1946360/1684884611.py:6: DeprecationWarning: `recreate_collection` method is deprecated and will be removed in the future. Use `collection_exists` to check collection existence and `create_collection` instead.\n",
      "  client.recreate_collection(\n",
      "/tmp/ipykernel_1946360/1684884611.py:13: DeprecationWarning: `upload_records` is deprecated, use `upload_points` instead\n",
      "  client.upload_records(\n"
     ]
    }
   ],
   "source": [
    "from qdrant_client import QdrantClient, models\n",
    "\n",
    "client = QdrantClient(location=\":memory:\")\n",
    "\n",
    "encoder = SentenceTransformer('sentence-transformers/all-MiniLM-L6-v2')\n",
    "client.recreate_collection(\n",
    "    collection_name=\"product_text_data\",\n",
    "    vectors_config=models.VectorParams(\n",
    "        size=encoder.get_sentence_embedding_dimension(), # type: ignore | Vector size is defined by used model\n",
    "        distance=models.Distance.COSINE),\n",
    ")\n",
    "\n",
    "client.upload_records(\n",
    "    collection_name=\"product_text_data\",\n",
    "    records=[\n",
    "        models.Record(\n",
    "            id=idx, \n",
    "            vector=encoder.encode(_get_product_text_data(product)),  # type: ignore\n",
    "            payload=product\n",
    "        ) for idx, product in enumerate(products)\n",
    "    ]\n",
    ")\n"
   ]
  },
  {
   "cell_type": "markdown",
   "metadata": {},
   "source": [
    "### Perform a search on the text"
   ]
  },
  {
   "cell_type": "code",
   "execution_count": 48,
   "metadata": {},
   "outputs": [
    {
     "name": "stdout",
     "output_type": "stream",
     "text": [
      "score: 0.45414936542510986 {'id': 'fde9e6c3-6ae2-40c6-b9bf-27c726ebfe9b', 'name': 'Wide Fit Trainers for Men Arch Support Road Running Athletic Sneakers Breathable Gym Shoes for Fitness Jogging Walking - Fresh Core', 'description': \"    Product details     Care instructions     Machine Wash       Sole material     Rubber       Outer material     3-Layer Mesh       Inner material     Mesh      About this item   Breathable Knit Upper: The upper of mens trainer is made of mesh and synthetic materials. The knitted fabric is comfortable, breathable and lightweight to keep your feet dry during exercise   Wide Toe Box: These wide trainers are good for wide feet and people suffering from foot problems like plantar fasciitis, foot pain, flat feet, bunions and hammertoes   Slip On Design: Men's slip on trainers with elastic and soft synthetic lining protect your back heel from abrasion, which is convenient to put on and take off   Cushioned Midsole: The EVA midsole provides effective shock absorption, cushioning and support, making you feel relaxed while walking or jogging   Slip-Resistant Rubber Outsole: With non-slip outsole, these arch support running shoes deliver enhanced traction, stability, and durability   See less About this item    Product details    Date First Available                                     \\u200f                                         :                                     \\u200e                                  30 Aug. 2022   ASIN                                     \\u200f                                         :                                     \\u200e                                  B0BCFP41B1   Department                                     \\u200f                                         :                                     \\u200e                                  Men's       Best Sellers Rank:  2,485 in Fashion (See Top 100 in Fashion)   9 in Men's Road Running Shoes       Customer reviews:         4.3  4.3 out of 5 stars         1,437 ratings               Product Description                                                                        \", 'revised_description': None, 'product_asin': 'B09Y927NYF', 'overall_ratings': 4.3, 'total_customers_that_rated': 1435, 'price': 44.99, 'currency': '£', 'category': 'Fashion', 'sub_category': \"Men's Fashion\", 'product_page_url': 'https://amazon.co.uk/FitVille-Trainers-Men-Athletic-Breathable/dp/B09Y927NYF/ref=sr_1_615?dib=eyJ2IjoiMSJ9.qr9lNtAPg7t6W7D1T0tO_6wEzI4M6mpYLMDLuxEinQC1OROpQWp-dwulv-pYkOUpTCyGicuw7_Z--hOmnKCrP2eT8hmxZaYpKMilMvGP8VHgSfa2eGUSJDg91lFiNp1ZHIf3TcWD-LThLEYd8wDsmxdit3gLTB2hYGoLeAiuTwPTV_ehv2MAPd_W6FkXwnCrrfrto8rVwzli4Zn8vJHTuS42teQjExqnXwc5iFC4IQZn1hYq_QANSwHQkbGTVNl2Ofl67k_jQW-YCKacUxPWNPWS3LGwQ4wvN9GmLoFlsAo.TEQCJryIBZq6QPq4Z7SXaiLDVzTBkS3eWWUqa6kfXLM&dib_tag=se&qid=1710844561&s=apparel&sr=1-615', 'image_url': 'https://m.media-amazon.com/images/I/71E4DVT-pqL._AC_UL960_QL65_.jpg', 'reviews': [{'id': '46b240a9-667d-40a1-878b-75450825ab71', 'review_ref': 'R3F4SHV2F6YIDZ', 'product_id': 'fde9e6c3-6ae2-40c6-b9bf-27c726ebfe9b', 'review_content': 'Ordered an 8. What arrived claimed to be an 8 on the tongue but no way on earth is it right. Maybe wrong label placed in shoe because it was more a 9.5 than an 8. It is more annoying than anything else as they do look decent. Not amazing and for the money you can absolutely find much much better trainers from Under Armour. If they fit I would have still kept them though but certainly not bought any further pairs. Sorry guys but these are not true size.', 'review_title': 'Too large. Not true sizing.', 'date_written': '2024-02-19', 'product_asin': 'B09Y927NYF', 'country': 'the United Kingdom', 'helpful_count': 0, 'rating_given': 1.0, 'review_page_url': 'https://www.amazon.co.uk//FitVille-Trainers-Athletic-Sneakers-Breathable/product-reviews/B0B3J252M4/ref=cm_cr_dp_d_show_all_btm?ie=UTF8&reviewerType=all_reviews&filterByStar=one_star', 'sentiment': None, 'product_aspects': None}, {'id': '219ebd7e-5061-4429-bc57-ffd8b39aae0a', 'review_ref': 'R3A238WK1ZSCU7', 'product_id': 'fde9e6c3-6ae2-40c6-b9bf-27c726ebfe9b', 'review_content': 'So hard to find good wide fitting shoes, I hoped these would be the answer.Tried them on the house and all seemed great. Decided to take a chance with them as quite expensive for a brand I have never heard of.Sadly after less than 5 min walking in them the pain in my feet was unbearable. The style and fit clearly does not suit my feet and now I have a pair of trainers I can’t wear. Gutted.Can’t even return now they have been worn.', 'review_title': 'Caused so much pain', 'date_written': '2023-12-14', 'product_asin': 'B09Y927NYF', 'country': 'the United Kingdom', 'helpful_count': 1, 'rating_given': 1.0, 'review_page_url': 'https://www.amazon.co.uk//FitVille-Trainers-Athletic-Sneakers-Breathable/product-reviews/B0B3J252M4/ref=cm_cr_dp_d_show_all_btm?ie=UTF8&reviewerType=all_reviews&filterByStar=one_star', 'sentiment': None, 'product_aspects': None}, {'id': 'd6bd614a-d58e-45ff-bde8-c5a662391d98', 'review_ref': 'R1IHQAV6TG8NKY', 'product_id': 'fde9e6c3-6ae2-40c6-b9bf-27c726ebfe9b', 'review_content': 'I’ve had the shoes for 1.5 months, in total I’ve worn them maybe 10 times - the first fit was perfect but they very quickly stopped fitting right. My feet now slide around inside, there is zero support and they’re totally out of shape. Not worth the money paid for them, I’m really let down. Comfort wise? When they fit at the beginning, great now they’re about as uncomfortable as you can get.', 'review_title': 'Out of shape and totally unusable', 'date_written': '2023-11-14', 'product_asin': 'B09Y927NYF', 'country': 'the United Kingdom', 'helpful_count': 0, 'rating_given': 1.0, 'review_page_url': 'https://www.amazon.co.uk//FitVille-Trainers-Athletic-Sneakers-Breathable/product-reviews/B0B3J252M4/ref=cm_cr_dp_d_show_all_btm?ie=UTF8&reviewerType=all_reviews&filterByStar=one_star', 'sentiment': None, 'product_aspects': None}, {'id': 'f4d71e64-973a-4422-a279-e4b7c5ef7cba', 'review_ref': 'R276OND49J8KAY', 'product_id': 'fde9e6c3-6ae2-40c6-b9bf-27c726ebfe9b', 'review_content': 'So first up. This is the best trainer I have ever had. I have been fighting some knee issues and these shoes have helped immensely. I bought these 7 weeks ago. And now the base is coming completely loose. It seems that the glue is failing. So are they fit for purpose? No. Are they are amazing shoe. Yes.', 'review_title': 'Incredible shoe - build quality suspect', 'date_written': '2023-10-08', 'product_asin': 'B09Y927NYF', 'country': 'the United Kingdom', 'helpful_count': 3, 'rating_given': 1.0, 'review_page_url': 'https://www.amazon.co.uk//FitVille-Trainers-Athletic-Sneakers-Breathable/product-reviews/B0B3J252M4/ref=cm_cr_dp_d_show_all_btm?ie=UTF8&reviewerType=all_reviews&filterByStar=one_star', 'sentiment': None, 'product_aspects': None}, {'id': '349b9943-afd0-4894-991b-687b3f2cb26f', 'review_ref': 'R14M5PWV1DM8V', 'product_id': 'fde9e6c3-6ae2-40c6-b9bf-27c726ebfe9b', 'review_content': \"Sent direct from China, bought size extra wide and what arrived seem like size 12. Width was great length was ludicrous. I processed a 'return' and I was issued a refund and told I could keep the shoes. Nuff said.\", 'review_title': 'Avoid.', 'date_written': '2023-10-10', 'product_asin': 'B09Y927NYF', 'country': 'the United Kingdom', 'helpful_count': 0, 'rating_given': 1.0, 'review_page_url': 'https://www.amazon.co.uk//FitVille-Trainers-Athletic-Sneakers-Breathable/product-reviews/B0B3J252M4/ref=cm_cr_dp_d_show_all_btm?ie=UTF8&reviewerType=all_reviews&filterByStar=one_star', 'sentiment': None, 'product_aspects': None}, {'id': '0b06a0c8-1e01-401c-a8a9-2982f25e3200', 'review_ref': 'R19HMJPW3IM1QM', 'product_id': 'fde9e6c3-6ae2-40c6-b9bf-27c726ebfe9b', 'review_content': 'Pick a darker colour, if i buy again', 'review_title': 'Very light , loads of comfort', 'date_written': '2023-12-28', 'product_asin': 'B09Y927NYF', 'country': 'the United Kingdom', 'helpful_count': 0, 'rating_given': 4.0, 'review_page_url': 'https://www.amazon.co.uk//FitVille-Trainers-Athletic-Sneakers-Breathable/product-reviews/B0B3J252M4/ref=cm_cr_dp_d_show_all_btm?ie=UTF8&reviewerType=all_reviews&filterByStar=four_star', 'sentiment': None, 'product_aspects': None}, {'id': '14f826b2-833f-4744-b755-2e19bb2c5d6d', 'review_ref': 'R1U3GGY02Y2A7M', 'product_id': 'fde9e6c3-6ae2-40c6-b9bf-27c726ebfe9b', 'review_content': 'Bought these for my Dad as hebhas terrible rheumatoid arthritis and his feet are a mess, wish he had returned them as the souls are not soft at all. I would find them uncomfortable. Very expensive waste of money.', 'review_title': 'Very very hard souls', 'date_written': '2023-10-10', 'product_asin': 'B09Y927NYF', 'country': 'the United Kingdom', 'helpful_count': 0, 'rating_given': 1.0, 'review_page_url': 'https://www.amazon.co.uk//FitVille-Trainers-Athletic-Sneakers-Breathable/product-reviews/B0B3J252M4/ref=cm_cr_dp_d_show_all_btm?ie=UTF8&reviewerType=all_reviews&filterByStar=one_star', 'sentiment': None, 'product_aspects': None}, {'id': '0f6730a0-b047-4f58-917b-13e9e474cba8', 'review_ref': 'R110UPCK5ECYRW', 'product_id': 'fde9e6c3-6ae2-40c6-b9bf-27c726ebfe9b', 'review_content': \"Measured these against my £25 ascis trainers which are just a basic trainer and these were no wider infact they were slightly smaller and my trainers are just standard trainers nothing special about them. The fitvilles had a spongy sole same as my trainers and were lace up same as my trainers, they had no arch support as described and just a basic insole same as my trainers. So my question is why spend £60 on these if they are no different to standard trainers. I'm sending these back for a refund and I would not recommend them if you are looking for wide fit trainers.\", 'review_title': 'Not any wider than standard trainers so no point in paying £60', 'date_written': '2022-09-05', 'product_asin': 'B09Y927NYF', 'country': 'the United Kingdom', 'helpful_count': 0, 'rating_given': 1.0, 'review_page_url': 'https://www.amazon.co.uk//FitVille-Trainers-Athletic-Sneakers-Breathable/product-reviews/B0B3J252M4/ref=cm_cr_dp_d_show_all_btm?ie=UTF8&reviewerType=all_reviews&filterByStar=one_star', 'sentiment': None, 'product_aspects': None}, {'id': '95795830-7be5-44e4-8cc9-2f82a76d607e', 'review_ref': 'R822VU4LX9EYE', 'product_id': 'fde9e6c3-6ae2-40c6-b9bf-27c726ebfe9b', 'review_content': 'I ordered these trainers as they are wide fitting, however I was unable to even get my feet into the trainer due to the idiotic design of a fixed tongue! Whoever thought that restricting the opening on wide fitting shoes was a good idea is obviously in the wrong job!!', 'review_title': 'Idiotic design', 'date_written': '2023-05-24', 'product_asin': 'B09Y927NYF', 'country': 'the United Kingdom', 'helpful_count': 1, 'rating_given': 1.0, 'review_page_url': 'https://www.amazon.co.uk//FitVille-Trainers-Athletic-Sneakers-Breathable/product-reviews/B0B3J252M4/ref=cm_cr_dp_d_show_all_btm?ie=UTF8&reviewerType=all_reviews&filterByStar=one_star', 'sentiment': None, 'product_aspects': None}, {'id': 'f43997dc-1487-4ece-965c-f319f9e3380b', 'review_ref': 'R27CW24N8JTO0L', 'product_id': 'fde9e6c3-6ae2-40c6-b9bf-27c726ebfe9b', 'review_content': \"This trainer cannot be opened to get your foot in it. The only access is through the top...with a shoehorn. First one i've ever had like this...weird. I am sending it back. if you have to take one off while you're out you are going to have a lot of trouble getting your foot back in it!\", 'review_title': 'Only access for your foot is through the top,', 'date_written': '2023-01-29', 'product_asin': 'B09Y927NYF', 'country': 'the United Kingdom', 'helpful_count': 0, 'rating_given': 1.0, 'review_page_url': 'https://www.amazon.co.uk//FitVille-Trainers-Athletic-Sneakers-Breathable/product-reviews/B0B3J252M4/ref=cm_cr_dp_d_show_all_btm?ie=UTF8&reviewerType=all_reviews&filterByStar=one_star', 'sentiment': None, 'product_aspects': None}, {'id': 'ee358338-2e36-47e3-a5e2-79687bf086d3', 'review_ref': 'R2K75UX21Q3JQH', 'product_id': 'fde9e6c3-6ae2-40c6-b9bf-27c726ebfe9b', 'review_content': 'This trainers are quite heavy .', 'review_title': 'The Weight', 'date_written': '2023-06-12', 'product_asin': 'B09Y927NYF', 'country': 'the United Kingdom', 'helpful_count': 0, 'rating_given': 1.0, 'review_page_url': 'https://www.amazon.co.uk//FitVille-Trainers-Athletic-Sneakers-Breathable/product-reviews/B0B3J252M4/ref=cm_cr_dp_d_show_all_btm?ie=UTF8&reviewerType=all_reviews&filterByStar=one_star', 'sentiment': None, 'product_aspects': None}, {'id': '28d1ea64-efd6-4718-946b-2cdb81060602', 'review_ref': 'R9UPCEOCR66PT', 'product_id': 'fde9e6c3-6ae2-40c6-b9bf-27c726ebfe9b', 'review_content': 'The shoes are very comfortable, easy to slip on and off with the added bonus of a nice wide fit and they look quite nice. But, and this a big but, I would have expected that for this money they would have at least been water repellent!! But NO even the dampest slightly raised grass results in water ingress to a scale that I may have just gone out in my socks.  For a supposedly sports/ activity shoe this can only be described as no better than flip flops and definitely not fit for purpose. 🙁', 'review_title': 'Mixed review', 'date_written': '2024-03-20', 'product_asin': 'B09Y927NYF', 'country': 'the United Kingdom', 'helpful_count': 0, 'rating_given': 2.0, 'review_page_url': 'https://www.amazon.co.uk//FitVille-Trainers-Athletic-Sneakers-Breathable/product-reviews/B0B3J252M4/ref=cm_cr_dp_d_show_all_btm?ie=UTF8&reviewerType=all_reviews&filterByStar=two_star', 'sentiment': None, 'product_aspects': None}, {'id': '5ae34de2-a4dc-48dd-ab6d-4f9e05806036', 'review_ref': 'R3KT333JJKN6WQ', 'product_id': 'fde9e6c3-6ae2-40c6-b9bf-27c726ebfe9b', 'review_content': \"I feel like these are like stalletoes or something I'm 2 inches taller wearing them. Don't seem natural to me feels like I'll break my ankle. They are wide enough which is rare. Also the soles made from some plastic nonsense not rubber like they advertise. I won't be keeping them\", 'review_title': 'Heels / soles insanely thick', 'date_written': '2023-10-26', 'product_asin': 'B09Y927NYF', 'country': 'the United Kingdom', 'helpful_count': 0, 'rating_given': 2.0, 'review_page_url': 'https://www.amazon.co.uk//FitVille-Trainers-Athletic-Sneakers-Breathable/product-reviews/B0B3J252M4/ref=cm_cr_dp_d_show_all_btm?ie=UTF8&reviewerType=all_reviews&filterByStar=two_star', 'sentiment': None, 'product_aspects': None}, {'id': '5f8a217c-f975-4fbd-8232-2c546f8052d9', 'review_ref': 'R3LZ6QIEU2WLB5', 'product_id': 'fde9e6c3-6ae2-40c6-b9bf-27c726ebfe9b', 'review_content': \"I got a pair of these in UK size 9.5 wide. I've had trainers from New Balance and Asics in the same size and found them to be a good fit but finding them in a wide fit is now extremely difficult. These are at least one whole size bigger than any I've had before. The soles are stiff, like trainers from decades ago, the overall style is bulky (more bulky than the pictures suggest) and the colours are paler than shown in the pictures, which makes them look cheaper. They took ages to arrive as well. If these were £30 and sized correctly they'd be fine but for this price they're bad value.\", 'review_title': 'Big, bulky and stiff', 'date_written': '2023-03-03', 'product_asin': 'B09Y927NYF', 'country': 'the United Kingdom', 'helpful_count': 0, 'rating_given': 2.0, 'review_page_url': 'https://www.amazon.co.uk//FitVille-Trainers-Athletic-Sneakers-Breathable/product-reviews/B0B3J252M4/ref=cm_cr_dp_d_show_all_btm?ie=UTF8&reviewerType=all_reviews&filterByStar=two_star', 'sentiment': None, 'product_aspects': None}, {'id': 'da231648-c612-47f9-854b-b042a3bc34ef', 'review_ref': 'R1XUCCYZUDH0MQ', 'product_id': 'fde9e6c3-6ae2-40c6-b9bf-27c726ebfe9b', 'review_content': \"I recently bought a pair of tennis shoes from FitVille and loved them, so I was looking forward to trying out these trainers. Unfortunately they were not true to size, they felt too loose and roomy on my feet and were slightly too long in length, which is strange because the tennis shoes I got (same size: UK 11 Wide) fit me perfectly.I also didn't like the fact that they don't have a tongue opening, the shoe is all one piece of mesh material; I much prefer shoes to have a tongue because it makes them easier to put on and take off and makes them easier to tighten. The laces don't go far enough down the foot to tighten the shoe from top to bottom properly either.Just when I thought I'd found a go-to shoe brand for my wide feet I try these out and am left disappointed. Shame.\", 'review_title': 'Disappointed with these trainers', 'date_written': '2022-09-04', 'product_asin': 'B09Y927NYF', 'country': 'the United Kingdom', 'helpful_count': 1, 'rating_given': 2.0, 'review_page_url': 'https://www.amazon.co.uk//FitVille-Trainers-Athletic-Sneakers-Breathable/product-reviews/B0B3J252M4/ref=cm_cr_dp_d_show_all_btm?ie=UTF8&reviewerType=all_reviews&filterByStar=two_star', 'sentiment': None, 'product_aspects': None}, {'id': '5ddcd3c9-25c7-41d1-ab38-d2721fce2df2', 'review_ref': 'RUJRBGNYEJHR9', 'product_id': 'fde9e6c3-6ae2-40c6-b9bf-27c726ebfe9b', 'review_content': 'I found them quite heavy on my feet and lose around the ankle to the extent it was changing the way I walk, so I’ve returned them, please note you lose 20% on the return amount plus postage to Germany so I doubt I’ll be purchasing trainers again from this company, the cost of you don’t like them and need to return them is prohibitive', 'review_title': 'A bit disappointed', 'date_written': '2022-11-20', 'product_asin': 'B09Y927NYF', 'country': 'the United Kingdom', 'helpful_count': 0, 'rating_given': 2.0, 'review_page_url': 'https://www.amazon.co.uk//FitVille-Trainers-Athletic-Sneakers-Breathable/product-reviews/B0B3J252M4/ref=cm_cr_dp_d_show_all_btm?ie=UTF8&reviewerType=all_reviews&filterByStar=two_star', 'sentiment': None, 'product_aspects': None}, {'id': 'e5b94de6-9337-4fe4-b6e6-9f1d25ecdbb5', 'review_ref': 'R21BBRPTSB1KVH', 'product_id': 'fde9e6c3-6ae2-40c6-b9bf-27c726ebfe9b', 'review_content': \"For a shoe advertised as 'X-wide' fit, the opening is extremely tight when trying to get them on your feet and remain tight around/below the ankle when you're wearing them, there is literally no give. Plenty of space for the toes when/if you get them on though.\", 'review_title': 'Very tight opening.', 'date_written': '2022-09-29', 'product_asin': 'B09Y927NYF', 'country': 'the United Kingdom', 'helpful_count': 0, 'rating_given': 2.0, 'review_page_url': 'https://www.amazon.co.uk//FitVille-Trainers-Athletic-Sneakers-Breathable/product-reviews/B0B3J252M4/ref=cm_cr_dp_d_show_all_btm?ie=UTF8&reviewerType=all_reviews&filterByStar=two_star', 'sentiment': None, 'product_aspects': None}, {'id': 'fae6b705-85cc-4621-8115-bc23027f7fe3', 'review_ref': 'R3K4ZF3Z5ZYH43', 'product_id': 'fde9e6c3-6ae2-40c6-b9bf-27c726ebfe9b', 'review_content': \"I was really disappointed by the shoe.The sizing is far too big, well over 1 size too big, and they are very wide too, even for someone who has wide feet.The quality is poor, and they are in no way a running shoe. Don't buy these for actual running.The best way to describe them is like a big pair of Sketchers.\", 'review_title': 'Not in any way a running shoe', 'date_written': '2023-10-12', 'product_asin': 'B09Y927NYF', 'country': 'the United Kingdom', 'helpful_count': 0, 'rating_given': 2.0, 'review_page_url': 'https://www.amazon.co.uk//FitVille-Trainers-Athletic-Sneakers-Breathable/product-reviews/B0B3J252M4/ref=cm_cr_dp_d_show_all_btm?ie=UTF8&reviewerType=all_reviews&filterByStar=two_star', 'sentiment': None, 'product_aspects': None}, {'id': '49315d04-d599-4add-b1c7-ee29285b266b', 'review_ref': 'R3KEVN8QVHEGM4', 'product_id': 'fde9e6c3-6ae2-40c6-b9bf-27c726ebfe9b', 'review_content': \"I have a walking pair of fitville trainers which have been great, and thought I'd try this running pair. Very disappointed though, they're quite obviously cheaply made, the lace system is terrible, and there are no upper lace loops, meaning they have to be done up so tight to prevent any heel slip, making them uncomfortable. Side of the shoes dog into my heel as well.Don't recommend sadly.\", 'review_title': 'Cheap and no upper lace loops', 'date_written': '2023-07-25', 'product_asin': 'B09Y927NYF', 'country': 'the United Kingdom', 'helpful_count': 0, 'rating_given': 2.0, 'review_page_url': 'https://www.amazon.co.uk//FitVille-Trainers-Athletic-Sneakers-Breathable/product-reviews/B0B3J252M4/ref=cm_cr_dp_d_show_all_btm?ie=UTF8&reviewerType=all_reviews&filterByStar=two_star', 'sentiment': None, 'product_aspects': None}, {'id': '55f1e40c-4f9a-4489-84cf-ce6b58ddbed2', 'review_ref': 'R316FRZQ5RIPE6', 'product_id': 'fde9e6c3-6ae2-40c6-b9bf-27c726ebfe9b', 'review_content': 'Leider gehen die Nähte am rechten Schuh auf. Der Schuh wurde den ganzen Winter nicht getragen, erst jetzt wieder und es lösen sich die Nähte. Sehr schade, da mein Mann diesen Schuh sehr gerne getragen hat. Er hat Arthrose im Knöchel und kam ansonsten mit dem Schuh gut klar.', 'review_title': 'Angenehm zu tragen, aber leider schlecht verarbeitet.', 'date_written': '2024-03-13', 'product_asin': 'B09Y927NYF', 'country': 'Germany', 'helpful_count': 0, 'rating_given': 2.0, 'review_page_url': 'https://www.amazon.co.uk//FitVille-Trainers-Athletic-Sneakers-Breathable/product-reviews/B0B3J252M4/ref=cm_cr_dp_d_show_all_btm?ie=UTF8&reviewerType=all_reviews&filterByStar=two_star', 'sentiment': None, 'product_aspects': None}, {'id': '966e2cbc-554a-47b0-82d2-51a2a1d8ae06', 'review_ref': 'R3M9MDSEFU2NY4', 'product_id': 'fde9e6c3-6ae2-40c6-b9bf-27c726ebfe9b', 'review_content': '. Bought size 11 like the others from same company and the were way to large for my feet', 'review_title': 'Size is not accurate.', 'date_written': '2023-10-17', 'product_asin': 'B09Y927NYF', 'country': 'Canada', 'helpful_count': 0, 'rating_given': 2.0, 'review_page_url': 'https://www.amazon.co.uk//FitVille-Trainers-Athletic-Sneakers-Breathable/product-reviews/B0B3J252M4/ref=cm_cr_dp_d_show_all_btm?ie=UTF8&reviewerType=all_reviews&filterByStar=two_star', 'sentiment': None, 'product_aspects': None}, {'id': '76423ed5-6d3e-4b8e-ad6a-1f62d44f5c37', 'review_ref': 'R3MD58VWACKUJX', 'product_id': 'fde9e6c3-6ae2-40c6-b9bf-27c726ebfe9b', 'review_content': 'The shoes is good to walk around. Quality is good too.Minimal arch support is there and not good to run. Too heavy. Otherwise just shoes. I returned because of these cons', 'review_title': 'Good shoe - too bulky', 'date_written': '2024-02-02', 'product_asin': 'B09Y927NYF', 'country': 'the United Kingdom', 'helpful_count': 0, 'rating_given': 3.0, 'review_page_url': 'https://www.amazon.co.uk//FitVille-Trainers-Athletic-Sneakers-Breathable/product-reviews/B0B3J252M4/ref=cm_cr_dp_d_show_all_btm?ie=UTF8&reviewerType=all_reviews&filterByStar=three_star', 'sentiment': None, 'product_aspects': None}, {'id': '4622e388-87a8-4faa-ae34-6c68fbc2db7b', 'review_ref': 'RD5TFP4B94EVK', 'product_id': 'fde9e6c3-6ae2-40c6-b9bf-27c726ebfe9b', 'review_content': \"The laces are elasticated and don't fit snuggly so end up slightly loose went extra half size, but normal size would probably be fine\", 'review_title': 'Lace up a bit awkward', 'date_written': '2023-07-01', 'product_asin': 'B09Y927NYF', 'country': 'the United Kingdom', 'helpful_count': 0, 'rating_given': 3.0, 'review_page_url': 'https://www.amazon.co.uk//FitVille-Trainers-Athletic-Sneakers-Breathable/product-reviews/B0B3J252M4/ref=cm_cr_dp_d_show_all_btm?ie=UTF8&reviewerType=all_reviews&filterByStar=three_star', 'sentiment': None, 'product_aspects': None}, {'id': 'd8de016f-52dc-40af-9c0f-7b6c35c3a568', 'review_ref': 'R1FAHIKZ57268S', 'product_id': 'fde9e6c3-6ae2-40c6-b9bf-27c726ebfe9b', 'review_content': 'as it did now fit, sent back,', 'review_title': 'comfort', 'date_written': '2023-05-19', 'product_asin': 'B09Y927NYF', 'country': 'the United Kingdom', 'helpful_count': 0, 'rating_given': 3.0, 'review_page_url': 'https://www.amazon.co.uk//FitVille-Trainers-Athletic-Sneakers-Breathable/product-reviews/B0B3J252M4/ref=cm_cr_dp_d_show_all_btm?ie=UTF8&reviewerType=all_reviews&filterByStar=three_star', 'sentiment': None, 'product_aspects': None}, {'id': '86ac8212-ee80-43d6-8c7e-a18ff25dd31b', 'review_ref': 'R3G2P063GT9FV3', 'product_id': 'fde9e6c3-6ae2-40c6-b9bf-27c726ebfe9b', 'review_content': \"I've only worn them for a week so no long term quality assessed. Build quality seems good though. I didn't make out from the picture that the trainers do not have a traditional tongue - they are effectively an elasticated slip-on. The laces can tighten the fit. After contacting customer services their resolution was excellent. Thank you\", 'review_title': 'Nice trainer, correctly sized', 'date_written': '2022-09-23', 'product_asin': 'B09Y927NYF', 'country': 'the United Kingdom', 'helpful_count': 0, 'rating_given': 3.0, 'review_page_url': 'https://www.amazon.co.uk//FitVille-Trainers-Athletic-Sneakers-Breathable/product-reviews/B0B3J252M4/ref=cm_cr_dp_d_show_all_btm?ie=UTF8&reviewerType=all_reviews&filterByStar=three_star', 'sentiment': None, 'product_aspects': None}, {'id': 'f5bb0e4e-dc07-43f1-8ebc-bd1c5c44b80c', 'review_ref': 'R38Y56MVQVH359', 'product_id': 'fde9e6c3-6ae2-40c6-b9bf-27c726ebfe9b', 'review_content': 'Would not recommend to front is wide enough but to get them on you feet is hard you need a shoehorn where you feet tend to swell', 'review_title': 'No happy', 'date_written': '2023-01-13', 'product_asin': 'B09Y927NYF', 'country': 'the United Kingdom', 'helpful_count': 0, 'rating_given': 3.0, 'review_page_url': 'https://www.amazon.co.uk//FitVille-Trainers-Athletic-Sneakers-Breathable/product-reviews/B0B3J252M4/ref=cm_cr_dp_d_show_all_btm?ie=UTF8&reviewerType=all_reviews&filterByStar=three_star', 'sentiment': None, 'product_aspects': None}, {'id': '4f13c955-c9c4-47de-af07-813795074b1d', 'review_ref': 'R2M9AKQFYJWTB5', 'product_id': 'fde9e6c3-6ae2-40c6-b9bf-27c726ebfe9b', 'review_content': 'Sole of shoe is not rocker', 'review_title': 'Not as supportive for ankle fussion as advised', 'date_written': '2023-04-04', 'product_asin': 'B09Y927NYF', 'country': 'the United Kingdom', 'helpful_count': 0, 'rating_given': 3.0, 'review_page_url': 'https://www.amazon.co.uk//FitVille-Trainers-Athletic-Sneakers-Breathable/product-reviews/B0B3J252M4/ref=cm_cr_dp_d_show_all_btm?ie=UTF8&reviewerType=all_reviews&filterByStar=three_star', 'sentiment': None, 'product_aspects': None}, {'id': 'c5201ac7-3aad-41d4-89c6-6b56906f67c9', 'review_ref': 'RTSU8WDAHISPR', 'product_id': 'fde9e6c3-6ae2-40c6-b9bf-27c726ebfe9b', 'review_content': 'Even with ordering the next size up they are still a bit tight but they’ll do for work', 'review_title': 'Too tight', 'date_written': '2022-12-27', 'product_asin': 'B09Y927NYF', 'country': 'the United Kingdom', 'helpful_count': 0, 'rating_given': 3.0, 'review_page_url': 'https://www.amazon.co.uk//FitVille-Trainers-Athletic-Sneakers-Breathable/product-reviews/B0B3J252M4/ref=cm_cr_dp_d_show_all_btm?ie=UTF8&reviewerType=all_reviews&filterByStar=three_star', 'sentiment': None, 'product_aspects': None}, {'id': 'a81b7673-c01f-4455-82d9-96cf19171e71', 'review_ref': 'R26VPMT28OED5R', 'product_id': 'fde9e6c3-6ae2-40c6-b9bf-27c726ebfe9b', 'review_content': 'Excellent looking shoes, not wide enough at the opening', 'review_title': 'Badly designed', 'date_written': '2022-10-07', 'product_asin': 'B09Y927NYF', 'country': 'the United Kingdom', 'helpful_count': 0, 'rating_given': 3.0, 'review_page_url': 'https://www.amazon.co.uk//FitVille-Trainers-Athletic-Sneakers-Breathable/product-reviews/B0B3J252M4/ref=cm_cr_dp_d_show_all_btm?ie=UTF8&reviewerType=all_reviews&filterByStar=three_star', 'sentiment': None, 'product_aspects': None}, {'id': '5848dcd1-91bc-4072-b6b5-e2b40d0f9f17', 'review_ref': 'R34WFMZYX5MUUO', 'product_id': 'fde9e6c3-6ae2-40c6-b9bf-27c726ebfe9b', 'review_content': 'I have a wide foot and after reading up on these shoes, thought give them a go. BUT really wish I had returned them. Because the tongue part is attached to the sides makes them very uncomfortable. I’m afraid these are a definite NO NO.', 'review_title': 'Bad Design', 'date_written': '2023-08-13', 'product_asin': 'B09Y927NYF', 'country': 'the United Kingdom', 'helpful_count': 0, 'rating_given': 3.0, 'review_page_url': 'https://www.amazon.co.uk//FitVille-Trainers-Athletic-Sneakers-Breathable/product-reviews/B0B3J252M4/ref=cm_cr_dp_d_show_all_btm?ie=UTF8&reviewerType=all_reviews&filterByStar=three_star', 'sentiment': None, 'product_aspects': None}, {'id': 'fdc08d52-8e1f-4f4b-b6ba-5e1d74252083', 'review_ref': 'R3L0D1UUCK6Q8C', 'product_id': 'fde9e6c3-6ae2-40c6-b9bf-27c726ebfe9b', 'review_content': 'Really loved the look and weight . Appear to be superior quality no flaws. Insides were comfy as heck but my toes were still squished on the sides even though I ordered a wide size.  Super sad.', 'review_title': 'Toe box was still too narrow', 'date_written': '2022-12-05', 'product_asin': 'B09Y927NYF', 'country': 'the United States', 'helpful_count': 0, 'rating_given': 3.0, 'review_page_url': 'https://www.amazon.co.uk//FitVille-Trainers-Athletic-Sneakers-Breathable/product-reviews/B0B3J252M4/ref=cm_cr_dp_d_show_all_btm?ie=UTF8&reviewerType=all_reviews&filterByStar=three_star', 'sentiment': None, 'product_aspects': None}, {'id': '49c3ddf4-dae3-40e3-ae0a-81c24e31e251', 'review_ref': 'R1H96CR4KMABTA', 'product_id': 'fde9e6c3-6ae2-40c6-b9bf-27c726ebfe9b', 'review_content': 'I have wide feet and find it hard to find well fitting shoes. these trainers fit great and seem very comfortable', 'review_title': 'As described', 'date_written': '2024-02-09', 'product_asin': 'B09Y927NYF', 'country': 'the United Kingdom', 'helpful_count': 0, 'rating_given': 4.0, 'review_page_url': 'https://www.amazon.co.uk//FitVille-Trainers-Athletic-Sneakers-Breathable/product-reviews/B0B3J252M4/ref=cm_cr_dp_d_show_all_btm?ie=UTF8&reviewerType=all_reviews&filterByStar=four_star', 'sentiment': None, 'product_aspects': None}, {'id': '64c6728c-8c60-4ac2-8364-4b4a52719191', 'review_ref': 'R2A2BPNC3JUQ1A', 'product_id': 'fde9e6c3-6ae2-40c6-b9bf-27c726ebfe9b', 'review_content': 'Ideal for my son with wide feet. Look and feel great quality.', 'review_title': 'Ideal for wide feet.', 'date_written': '2023-12-31', 'product_asin': 'B09Y927NYF', 'country': 'the United Kingdom', 'helpful_count': 0, 'rating_given': 4.0, 'review_page_url': 'https://www.amazon.co.uk//FitVille-Trainers-Athletic-Sneakers-Breathable/product-reviews/B0B3J252M4/ref=cm_cr_dp_d_show_all_btm?ie=UTF8&reviewerType=all_reviews&filterByStar=four_star', 'sentiment': None, 'product_aspects': None}, {'id': '9a0fa9a7-1125-4606-aaaf-24f47c56834c', 'review_ref': 'R2EA0YRF1LRDI7', 'product_id': 'fde9e6c3-6ae2-40c6-b9bf-27c726ebfe9b', 'review_content': 'Lovely looking shoe but unable to get foot in as I have a very high instep.  Born with it and makes it difficult to wear other than sandals.', 'review_title': 'Instep not high enough.', 'date_written': '2023-11-30', 'product_asin': 'B09Y927NYF', 'country': 'the United Kingdom', 'helpful_count': 0, 'rating_given': 4.0, 'review_page_url': 'https://www.amazon.co.uk//FitVille-Trainers-Athletic-Sneakers-Breathable/product-reviews/B0B3J252M4/ref=cm_cr_dp_d_show_all_btm?ie=UTF8&reviewerType=all_reviews&filterByStar=four_star', 'sentiment': None, 'product_aspects': None}, {'id': 'b8a9277b-02b8-4330-9f4b-a9438fb78df3', 'review_ref': 'RGZL88FVAYG8E', 'product_id': 'fde9e6c3-6ae2-40c6-b9bf-27c726ebfe9b', 'review_content': 'I bought these after discovering Asics Gel Venture running shoes in a 4E width and that experience means only 4E will do now - solved so many foot pain issues. I run and walk a lot so those Asics are superb. Price wise these are, at full price, similar to the Asics but would say the Fitvilles don’t quite live up the same quality and functional design detailing of Asics. These get a huge thumbs up for width and arch support built in but I would describe these as general footwear and not sports shoes. The main reasons would be - the fit is a little loose (ironically width) around the arch area of the foot, the heal fit is also a tad too flat so doesn’t fit snuggly to my heal shape. The final issue is the lacing and tongue. The tongue isn’t separate to the sides - more like a slip on - so limits the tightening up. The lacing holes fall short in distance at the ankle compared to most sport specific shoes. This results in a too loose fit around the ankle for running or any sport - in my opinion and for my desired fit - everyone is different.  I would recommend these as wide fit daily footwear but not sports shoes. A real plus for Fitville is the arch support and stock wide fitting that are available. My reason for not simply re ordering Asics comes down to the usual issue with specialist sports brands - they never seem to either have stock or keep the range consistent.', 'review_title': 'Great wide fit shoe but, perhaps, not for sports.', 'date_written': '2022-11-05', 'product_asin': 'B09Y927NYF', 'country': 'the United Kingdom', 'helpful_count': 7, 'rating_given': 4.0, 'review_page_url': 'https://www.amazon.co.uk//FitVille-Trainers-Athletic-Sneakers-Breathable/product-reviews/B0B3J252M4/ref=cm_cr_dp_d_show_all_btm?ie=UTF8&reviewerType=all_reviews&filterByStar=four_star', 'sentiment': None, 'product_aspects': None}, {'id': '250a5071-ac77-4a6c-9981-e6f1016e88c1', 'review_ref': 'R2SHADQAVHLFAS', 'product_id': 'fde9e6c3-6ae2-40c6-b9bf-27c726ebfe9b', 'review_content': \"Firstly, I really like fitville shoes, this being my 4th pair.I find the fit brilliant, (I wear the wide, not extra wide), and they're really comfortable.HOWEVER!The tread seems to wear remarkably fast, this pair for instance I've had a week, yup seven days worn probably 4 days and the tread is already disappearing, it's not as I walk much, I'm a driver by trade.My last two pairs were similar and the first pair cracked across the sole making them unwearable.If fitville sorted it's soles then they'd be on to a winner.\", 'review_title': 'Sole wears incredibly fast', 'date_written': '2023-07-16', 'product_asin': 'B09Y927NYF', 'country': 'the United Kingdom', 'helpful_count': 6, 'rating_given': 4.0, 'review_page_url': 'https://www.amazon.co.uk//FitVille-Trainers-Athletic-Sneakers-Breathable/product-reviews/B0B3J252M4/ref=cm_cr_dp_d_show_all_btm?ie=UTF8&reviewerType=all_reviews&filterByStar=four_star', 'sentiment': None, 'product_aspects': None}, {'id': '140d93d9-d702-4c6e-a9f6-6812d87dda1a', 'review_ref': 'R82U71W9YL9WA', 'product_id': 'fde9e6c3-6ae2-40c6-b9bf-27c726ebfe9b', 'review_content': 'Ideal if you have bionions and  need the extra toe room', 'review_title': 'Plenty of room extra wide', 'date_written': '2023-10-20', 'product_asin': 'B09Y927NYF', 'country': 'the United Kingdom', 'helpful_count': 0, 'rating_given': 4.0, 'review_page_url': 'https://www.amazon.co.uk//FitVille-Trainers-Athletic-Sneakers-Breathable/product-reviews/B0B3J252M4/ref=cm_cr_dp_d_show_all_btm?ie=UTF8&reviewerType=all_reviews&filterByStar=four_star', 'sentiment': None, 'product_aspects': None}, {'id': 'ec2a670a-9774-4297-805a-b96c54e3ecd8', 'review_ref': 'R1WHURYP5ZHTZ5', 'product_id': 'fde9e6c3-6ae2-40c6-b9bf-27c726ebfe9b', 'review_content': 'These are a good solid pair of trainers. I did have some trepidation in ordering another pair of Fitsvile trainer as my earlier purchase had to be returned as the gap to place your foot in was too small for my swollen feet, given I had neuropathy.', 'review_title': 'Fitsvile trainers', 'date_written': '2023-07-19', 'product_asin': 'B09Y927NYF', 'country': 'the United Kingdom', 'helpful_count': 0, 'rating_given': 4.0, 'review_page_url': 'https://www.amazon.co.uk//FitVille-Trainers-Athletic-Sneakers-Breathable/product-reviews/B0B3J252M4/ref=cm_cr_dp_d_show_all_btm?ie=UTF8&reviewerType=all_reviews&filterByStar=four_star', 'sentiment': None, 'product_aspects': None}, {'id': '8ddea299-a370-40ac-abce-ef1b39fb36c2', 'review_ref': 'R11LDZ401JNHP3', 'product_id': 'fde9e6c3-6ae2-40c6-b9bf-27c726ebfe9b', 'review_content': 'Does the job.', 'review_title': 'Good for walking…', 'date_written': '2023-08-27', 'product_asin': 'B09Y927NYF', 'country': 'the United Kingdom', 'helpful_count': 0, 'rating_given': 4.0, 'review_page_url': 'https://www.amazon.co.uk//FitVille-Trainers-Athletic-Sneakers-Breathable/product-reviews/B0B3J252M4/ref=cm_cr_dp_d_show_all_btm?ie=UTF8&reviewerType=all_reviews&filterByStar=four_star', 'sentiment': None, 'product_aspects': None}, {'id': 'e17c6074-8a4e-4afb-a41b-9a7432903224', 'review_ref': 'R1NVMC5741DBHF', 'product_id': 'fde9e6c3-6ae2-40c6-b9bf-27c726ebfe9b', 'review_content': 'Decent quality could have gone one size smaller', 'review_title': 'Wide fit', 'date_written': '2023-07-25', 'product_asin': 'B09Y927NYF', 'country': 'the United Kingdom', 'helpful_count': 0, 'rating_given': 4.0, 'review_page_url': 'https://www.amazon.co.uk//FitVille-Trainers-Athletic-Sneakers-Breathable/product-reviews/B0B3J252M4/ref=cm_cr_dp_d_show_all_btm?ie=UTF8&reviewerType=all_reviews&filterByStar=four_star', 'sentiment': None, 'product_aspects': None}, {'id': '9e49808e-e8e0-45df-9953-ac17d085386a', 'review_ref': 'R3EJMDGPYQ2W3U', 'product_id': 'fde9e6c3-6ae2-40c6-b9bf-27c726ebfe9b', 'review_content': 'They are wide, comfortable, good quality 👌', 'review_title': 'Wide', 'date_written': '2024-02-26', 'product_asin': 'B09Y927NYF', 'country': 'the United Kingdom', 'helpful_count': 1, 'rating_given': 5.0, 'review_page_url': 'https://www.amazon.co.uk//FitVille-Trainers-Athletic-Sneakers-Breathable/product-reviews/B0B3J252M4/ref=cm_cr_dp_d_show_all_btm?ie=UTF8&reviewerType=all_reviews&filterByStar=five_star', 'sentiment': None, 'product_aspects': None}, {'id': '8ae5e7d2-ff3c-417b-b514-4f601c368acd', 'review_ref': 'R3SN1FSVXVUUBL', 'product_id': 'fde9e6c3-6ae2-40c6-b9bf-27c726ebfe9b', 'review_content': 'Comfy trainers with a good fit, i ordered a ln 11 x wide and they fit perfectly.', 'review_title': 'Comfortable, size accurate', 'date_written': '2024-03-23', 'product_asin': 'B09Y927NYF', 'country': 'the United Kingdom', 'helpful_count': 0, 'rating_given': 5.0, 'review_page_url': 'https://www.amazon.co.uk//FitVille-Trainers-Athletic-Sneakers-Breathable/product-reviews/B0B3J252M4/ref=cm_cr_dp_d_show_all_btm?ie=UTF8&reviewerType=all_reviews&filterByStar=five_star', 'sentiment': None, 'product_aspects': None}, {'id': 'eaeb4db8-fd57-4b51-9c87-3a7312e1aa1e', 'review_ref': 'R2O1FXHOQ5N7AR', 'product_id': 'fde9e6c3-6ae2-40c6-b9bf-27c726ebfe9b', 'review_content': 'I really like being able to order footwear with wide and extra wide options as well as arch support and at reasonable prices, being able to get a perfect fit makes these a very comfortable trainer', 'review_title': 'very comfortable', 'date_written': '2024-03-20', 'product_asin': 'B09Y927NYF', 'country': 'the United Kingdom', 'helpful_count': 0, 'rating_given': 5.0, 'review_page_url': 'https://www.amazon.co.uk//FitVille-Trainers-Athletic-Sneakers-Breathable/product-reviews/B0B3J252M4/ref=cm_cr_dp_d_show_all_btm?ie=UTF8&reviewerType=all_reviews&filterByStar=five_star', 'sentiment': None, 'product_aspects': None}, {'id': '98e6f98d-dff5-4b0f-a373-1e73a581c830', 'review_ref': 'R2BKG97G6QJL59', 'product_id': 'fde9e6c3-6ae2-40c6-b9bf-27c726ebfe9b', 'review_content': 'I love these trainers very comfortable and wide fitting,so plenty of room for my toes. Can wear them all day no problems.', 'review_title': 'Trainers', 'date_written': '2024-03-11', 'product_asin': 'B09Y927NYF', 'country': 'the United Kingdom', 'helpful_count': 0, 'rating_given': 5.0, 'review_page_url': 'https://www.amazon.co.uk//FitVille-Trainers-Athletic-Sneakers-Breathable/product-reviews/B0B3J252M4/ref=cm_cr_dp_d_show_all_btm?ie=UTF8&reviewerType=all_reviews&filterByStar=five_star', 'sentiment': None, 'product_aspects': None}, {'id': '662073e8-b5cf-4f26-b541-992a08314efb', 'review_ref': 'R1QHEKPALB8X2L', 'product_id': 'fde9e6c3-6ae2-40c6-b9bf-27c726ebfe9b', 'review_content': 'Best fitting trainers I have ever brought !I ordered the wide fit which is perfect for meI will buy again in the future', 'review_title': 'Great !!!', 'date_written': '2024-03-03', 'product_asin': 'B09Y927NYF', 'country': 'the United Kingdom', 'helpful_count': 0, 'rating_given': 5.0, 'review_page_url': 'https://www.amazon.co.uk//FitVille-Trainers-Athletic-Sneakers-Breathable/product-reviews/B0B3J252M4/ref=cm_cr_dp_d_show_all_btm?ie=UTF8&reviewerType=all_reviews&filterByStar=five_star', 'sentiment': None, 'product_aspects': None}, {'id': '4228d947-bde9-4ed2-9c5d-8be44a95df2f', 'review_ref': 'R2UA8CKTP3TYNI', 'product_id': 'fde9e6c3-6ae2-40c6-b9bf-27c726ebfe9b', 'review_content': \"These trainers have had a huge impact in reduction of my pf pain,I walk 40mins a day and it was starting to be a painful problem,these trainers have let me walk to work pain free,and do a days work pain free,can't recommend enough,wide fit ideal and can basically slip on also,will be my go to trainer from here on in!\", 'review_title': 'Pain relief in a trainer!', 'date_written': '2024-03-25', 'product_asin': 'B09Y927NYF', 'country': 'the United Kingdom', 'helpful_count': 0, 'rating_given': 5.0, 'review_page_url': 'https://www.amazon.co.uk//FitVille-Trainers-Athletic-Sneakers-Breathable/product-reviews/B0B3J252M4/ref=cm_cr_dp_d_show_all_btm?ie=UTF8&reviewerType=all_reviews&filterByStar=five_star', 'sentiment': None, 'product_aspects': None}, {'id': '766e4314-faf7-4253-95ff-9c3bea49a647', 'review_ref': 'R32KZU0WJO2B5Y', 'product_id': 'fde9e6c3-6ae2-40c6-b9bf-27c726ebfe9b', 'review_content': 'But these really are a great fit.', 'review_title': 'Don’t seem to run faster!', 'date_written': '2024-03-11', 'product_asin': 'B09Y927NYF', 'country': 'the United Kingdom', 'helpful_count': 1, 'rating_given': 5.0, 'review_page_url': 'https://www.amazon.co.uk//FitVille-Trainers-Athletic-Sneakers-Breathable/product-reviews/B0B3J252M4/ref=cm_cr_dp_d_show_all_btm?ie=UTF8&reviewerType=all_reviews&filterByStar=five_star', 'sentiment': None, 'product_aspects': None}, {'id': '61a37994-b853-42f9-8293-3d3e8b00ed44', 'review_ref': 'RK66UZ5GAE7ZV', 'product_id': 'fde9e6c3-6ae2-40c6-b9bf-27c726ebfe9b', 'review_content': 'these are possibly the comfiest trainers i have ever worn, i have flat feet and need a wide fit, i can wear these all day without any discomfort, 5 out of 5 from me, well worth the money! 👍', 'review_title': 'great trainers!', 'date_written': '2024-02-15', 'product_asin': 'B09Y927NYF', 'country': 'the United Kingdom', 'helpful_count': 0, 'rating_given': 5.0, 'review_page_url': 'https://www.amazon.co.uk//FitVille-Trainers-Athletic-Sneakers-Breathable/product-reviews/B0B3J252M4/ref=cm_cr_dp_d_show_all_btm?ie=UTF8&reviewerType=all_reviews&filterByStar=five_star', 'sentiment': None, 'product_aspects': None}, {'id': '3beccceb-6d29-4490-9053-24040c98301e', 'review_ref': 'R4MFSOYKBZ8QM', 'product_id': 'fde9e6c3-6ae2-40c6-b9bf-27c726ebfe9b', 'review_content': 'Prompt delivery.', 'review_title': 'Item as described.', 'date_written': '2024-02-16', 'product_asin': 'B09Y927NYF', 'country': 'the United Kingdom', 'helpful_count': 0, 'rating_given': 5.0, 'review_page_url': 'https://www.amazon.co.uk//FitVille-Trainers-Athletic-Sneakers-Breathable/product-reviews/B0B3J252M4/ref=cm_cr_dp_d_show_all_btm?ie=UTF8&reviewerType=all_reviews&filterByStar=five_star', 'sentiment': None, 'product_aspects': None}, {'id': '93c372a1-2d4f-4f18-8e8b-4df679e1e6c0', 'review_ref': 'R2OSTNSKXMPE57', 'product_id': 'fde9e6c3-6ae2-40c6-b9bf-27c726ebfe9b', 'review_content': 'Very happy and comfortable', 'review_title': 'Comfortable trainers', 'date_written': '2024-02-11', 'product_asin': 'B09Y927NYF', 'country': 'the United Kingdom', 'helpful_count': 0, 'rating_given': 5.0, 'review_page_url': 'https://www.amazon.co.uk//FitVille-Trainers-Athletic-Sneakers-Breathable/product-reviews/B0B3J252M4/ref=cm_cr_dp_d_show_all_btm?ie=UTF8&reviewerType=all_reviews&filterByStar=five_star', 'sentiment': None, 'product_aspects': None}]}\n"
     ]
    }
   ],
   "source": [
    "# Let's now search for something\n",
    "\n",
    "hits = client.search(\n",
    "    collection_name=\"product_text_data\",\n",
    "    query_vector=encoder.encode(\"Do you have any men sneakers I can wear for the winter?\"),\n",
    "    limit=1\n",
    ")\n",
    "for hit in hits:\n",
    "  print(\"score:\", hit.score, hit.payload )"
   ]
  },
  {
   "cell_type": "markdown",
   "metadata": {},
   "source": [
    "### Embed the product images"
   ]
  },
  {
   "cell_type": "code",
   "execution_count": 49,
   "metadata": {},
   "outputs": [
    {
     "name": "stderr",
     "output_type": "stream",
     "text": [
      "Some weights of ViTModel were not initialized from the model checkpoint at google/vit-base-patch16-224 and are newly initialized: ['vit.pooler.dense.bias', 'vit.pooler.dense.weight']\n",
      "You should probably TRAIN this model on a down-stream task to be able to use it for predictions and inference.\n",
      "/tmp/ipykernel_1946360/2538211480.py:8: DeprecationWarning: `recreate_collection` method is deprecated and will be removed in the future. Use `collection_exists` to check collection existence and `create_collection` instead.\n",
      "  client.recreate_collection(\n",
      "Some weights of ViTModel were not initialized from the model checkpoint at google/vit-base-patch16-224 and are newly initialized: ['vit.pooler.dense.bias', 'vit.pooler.dense.weight']\n",
      "You should probably TRAIN this model on a down-stream task to be able to use it for predictions and inference.\n",
      "Some weights of ViTModel were not initialized from the model checkpoint at google/vit-base-patch16-224 and are newly initialized: ['vit.pooler.dense.bias', 'vit.pooler.dense.weight']\n",
      "You should probably TRAIN this model on a down-stream task to be able to use it for predictions and inference.\n",
      "Some weights of ViTModel were not initialized from the model checkpoint at google/vit-base-patch16-224 and are newly initialized: ['vit.pooler.dense.bias', 'vit.pooler.dense.weight']\n",
      "You should probably TRAIN this model on a down-stream task to be able to use it for predictions and inference.\n",
      "Some weights of ViTModel were not initialized from the model checkpoint at google/vit-base-patch16-224 and are newly initialized: ['vit.pooler.dense.bias', 'vit.pooler.dense.weight']\n",
      "You should probably TRAIN this model on a down-stream task to be able to use it for predictions and inference.\n",
      "Some weights of ViTModel were not initialized from the model checkpoint at google/vit-base-patch16-224 and are newly initialized: ['vit.pooler.dense.bias', 'vit.pooler.dense.weight']\n",
      "You should probably TRAIN this model on a down-stream task to be able to use it for predictions and inference.\n",
      "Some weights of ViTModel were not initialized from the model checkpoint at google/vit-base-patch16-224 and are newly initialized: ['vit.pooler.dense.bias', 'vit.pooler.dense.weight']\n",
      "You should probably TRAIN this model on a down-stream task to be able to use it for predictions and inference.\n",
      "Some weights of ViTModel were not initialized from the model checkpoint at google/vit-base-patch16-224 and are newly initialized: ['vit.pooler.dense.bias', 'vit.pooler.dense.weight']\n",
      "You should probably TRAIN this model on a down-stream task to be able to use it for predictions and inference.\n",
      "Some weights of ViTModel were not initialized from the model checkpoint at google/vit-base-patch16-224 and are newly initialized: ['vit.pooler.dense.bias', 'vit.pooler.dense.weight']\n",
      "You should probably TRAIN this model on a down-stream task to be able to use it for predictions and inference.\n",
      "Some weights of ViTModel were not initialized from the model checkpoint at google/vit-base-patch16-224 and are newly initialized: ['vit.pooler.dense.bias', 'vit.pooler.dense.weight']\n",
      "You should probably TRAIN this model on a down-stream task to be able to use it for predictions and inference.\n",
      "Some weights of ViTModel were not initialized from the model checkpoint at google/vit-base-patch16-224 and are newly initialized: ['vit.pooler.dense.bias', 'vit.pooler.dense.weight']\n",
      "You should probably TRAIN this model on a down-stream task to be able to use it for predictions and inference.\n",
      "Some weights of ViTModel were not initialized from the model checkpoint at google/vit-base-patch16-224 and are newly initialized: ['vit.pooler.dense.bias', 'vit.pooler.dense.weight']\n",
      "You should probably TRAIN this model on a down-stream task to be able to use it for predictions and inference.\n",
      "Some weights of ViTModel were not initialized from the model checkpoint at google/vit-base-patch16-224 and are newly initialized: ['vit.pooler.dense.bias', 'vit.pooler.dense.weight']\n",
      "You should probably TRAIN this model on a down-stream task to be able to use it for predictions and inference.\n",
      "Some weights of ViTModel were not initialized from the model checkpoint at google/vit-base-patch16-224 and are newly initialized: ['vit.pooler.dense.bias', 'vit.pooler.dense.weight']\n",
      "You should probably TRAIN this model on a down-stream task to be able to use it for predictions and inference.\n",
      "Some weights of ViTModel were not initialized from the model checkpoint at google/vit-base-patch16-224 and are newly initialized: ['vit.pooler.dense.bias', 'vit.pooler.dense.weight']\n",
      "You should probably TRAIN this model on a down-stream task to be able to use it for predictions and inference.\n",
      "Some weights of ViTModel were not initialized from the model checkpoint at google/vit-base-patch16-224 and are newly initialized: ['vit.pooler.dense.bias', 'vit.pooler.dense.weight']\n",
      "You should probably TRAIN this model on a down-stream task to be able to use it for predictions and inference.\n",
      "Some weights of ViTModel were not initialized from the model checkpoint at google/vit-base-patch16-224 and are newly initialized: ['vit.pooler.dense.bias', 'vit.pooler.dense.weight']\n",
      "You should probably TRAIN this model on a down-stream task to be able to use it for predictions and inference.\n",
      "Some weights of ViTModel were not initialized from the model checkpoint at google/vit-base-patch16-224 and are newly initialized: ['vit.pooler.dense.bias', 'vit.pooler.dense.weight']\n",
      "You should probably TRAIN this model on a down-stream task to be able to use it for predictions and inference.\n",
      "Some weights of ViTModel were not initialized from the model checkpoint at google/vit-base-patch16-224 and are newly initialized: ['vit.pooler.dense.bias', 'vit.pooler.dense.weight']\n",
      "You should probably TRAIN this model on a down-stream task to be able to use it for predictions and inference.\n",
      "Some weights of ViTModel were not initialized from the model checkpoint at google/vit-base-patch16-224 and are newly initialized: ['vit.pooler.dense.bias', 'vit.pooler.dense.weight']\n",
      "You should probably TRAIN this model on a down-stream task to be able to use it for predictions and inference.\n",
      "Some weights of ViTModel were not initialized from the model checkpoint at google/vit-base-patch16-224 and are newly initialized: ['vit.pooler.dense.bias', 'vit.pooler.dense.weight']\n",
      "You should probably TRAIN this model on a down-stream task to be able to use it for predictions and inference.\n",
      "Some weights of ViTModel were not initialized from the model checkpoint at google/vit-base-patch16-224 and are newly initialized: ['vit.pooler.dense.bias', 'vit.pooler.dense.weight']\n",
      "You should probably TRAIN this model on a down-stream task to be able to use it for predictions and inference.\n",
      "Some weights of ViTModel were not initialized from the model checkpoint at google/vit-base-patch16-224 and are newly initialized: ['vit.pooler.dense.bias', 'vit.pooler.dense.weight']\n",
      "You should probably TRAIN this model on a down-stream task to be able to use it for predictions and inference.\n",
      "Some weights of ViTModel were not initialized from the model checkpoint at google/vit-base-patch16-224 and are newly initialized: ['vit.pooler.dense.bias', 'vit.pooler.dense.weight']\n",
      "You should probably TRAIN this model on a down-stream task to be able to use it for predictions and inference.\n",
      "Some weights of ViTModel were not initialized from the model checkpoint at google/vit-base-patch16-224 and are newly initialized: ['vit.pooler.dense.bias', 'vit.pooler.dense.weight']\n",
      "You should probably TRAIN this model on a down-stream task to be able to use it for predictions and inference.\n",
      "Some weights of ViTModel were not initialized from the model checkpoint at google/vit-base-patch16-224 and are newly initialized: ['vit.pooler.dense.bias', 'vit.pooler.dense.weight']\n",
      "You should probably TRAIN this model on a down-stream task to be able to use it for predictions and inference.\n",
      "Some weights of ViTModel were not initialized from the model checkpoint at google/vit-base-patch16-224 and are newly initialized: ['vit.pooler.dense.bias', 'vit.pooler.dense.weight']\n",
      "You should probably TRAIN this model on a down-stream task to be able to use it for predictions and inference.\n",
      "Some weights of ViTModel were not initialized from the model checkpoint at google/vit-base-patch16-224 and are newly initialized: ['vit.pooler.dense.bias', 'vit.pooler.dense.weight']\n",
      "You should probably TRAIN this model on a down-stream task to be able to use it for predictions and inference.\n",
      "Some weights of ViTModel were not initialized from the model checkpoint at google/vit-base-patch16-224 and are newly initialized: ['vit.pooler.dense.bias', 'vit.pooler.dense.weight']\n",
      "You should probably TRAIN this model on a down-stream task to be able to use it for predictions and inference.\n",
      "Some weights of ViTModel were not initialized from the model checkpoint at google/vit-base-patch16-224 and are newly initialized: ['vit.pooler.dense.bias', 'vit.pooler.dense.weight']\n",
      "You should probably TRAIN this model on a down-stream task to be able to use it for predictions and inference.\n",
      "Some weights of ViTModel were not initialized from the model checkpoint at google/vit-base-patch16-224 and are newly initialized: ['vit.pooler.dense.bias', 'vit.pooler.dense.weight']\n",
      "You should probably TRAIN this model on a down-stream task to be able to use it for predictions and inference.\n",
      "Some weights of ViTModel were not initialized from the model checkpoint at google/vit-base-patch16-224 and are newly initialized: ['vit.pooler.dense.bias', 'vit.pooler.dense.weight']\n",
      "You should probably TRAIN this model on a down-stream task to be able to use it for predictions and inference.\n",
      "Some weights of ViTModel were not initialized from the model checkpoint at google/vit-base-patch16-224 and are newly initialized: ['vit.pooler.dense.bias', 'vit.pooler.dense.weight']\n",
      "You should probably TRAIN this model on a down-stream task to be able to use it for predictions and inference.\n",
      "Some weights of ViTModel were not initialized from the model checkpoint at google/vit-base-patch16-224 and are newly initialized: ['vit.pooler.dense.bias', 'vit.pooler.dense.weight']\n",
      "You should probably TRAIN this model on a down-stream task to be able to use it for predictions and inference.\n",
      "Some weights of ViTModel were not initialized from the model checkpoint at google/vit-base-patch16-224 and are newly initialized: ['vit.pooler.dense.bias', 'vit.pooler.dense.weight']\n",
      "You should probably TRAIN this model on a down-stream task to be able to use it for predictions and inference.\n",
      "Some weights of ViTModel were not initialized from the model checkpoint at google/vit-base-patch16-224 and are newly initialized: ['vit.pooler.dense.bias', 'vit.pooler.dense.weight']\n",
      "You should probably TRAIN this model on a down-stream task to be able to use it for predictions and inference.\n",
      "Some weights of ViTModel were not initialized from the model checkpoint at google/vit-base-patch16-224 and are newly initialized: ['vit.pooler.dense.bias', 'vit.pooler.dense.weight']\n",
      "You should probably TRAIN this model on a down-stream task to be able to use it for predictions and inference.\n",
      "Some weights of ViTModel were not initialized from the model checkpoint at google/vit-base-patch16-224 and are newly initialized: ['vit.pooler.dense.bias', 'vit.pooler.dense.weight']\n",
      "You should probably TRAIN this model on a down-stream task to be able to use it for predictions and inference.\n",
      "Some weights of ViTModel were not initialized from the model checkpoint at google/vit-base-patch16-224 and are newly initialized: ['vit.pooler.dense.bias', 'vit.pooler.dense.weight']\n",
      "You should probably TRAIN this model on a down-stream task to be able to use it for predictions and inference.\n",
      "Some weights of ViTModel were not initialized from the model checkpoint at google/vit-base-patch16-224 and are newly initialized: ['vit.pooler.dense.bias', 'vit.pooler.dense.weight']\n",
      "You should probably TRAIN this model on a down-stream task to be able to use it for predictions and inference.\n",
      "Some weights of ViTModel were not initialized from the model checkpoint at google/vit-base-patch16-224 and are newly initialized: ['vit.pooler.dense.bias', 'vit.pooler.dense.weight']\n",
      "You should probably TRAIN this model on a down-stream task to be able to use it for predictions and inference.\n",
      "Some weights of ViTModel were not initialized from the model checkpoint at google/vit-base-patch16-224 and are newly initialized: ['vit.pooler.dense.bias', 'vit.pooler.dense.weight']\n",
      "You should probably TRAIN this model on a down-stream task to be able to use it for predictions and inference.\n",
      "Some weights of ViTModel were not initialized from the model checkpoint at google/vit-base-patch16-224 and are newly initialized: ['vit.pooler.dense.bias', 'vit.pooler.dense.weight']\n",
      "You should probably TRAIN this model on a down-stream task to be able to use it for predictions and inference.\n",
      "Some weights of ViTModel were not initialized from the model checkpoint at google/vit-base-patch16-224 and are newly initialized: ['vit.pooler.dense.bias', 'vit.pooler.dense.weight']\n",
      "You should probably TRAIN this model on a down-stream task to be able to use it for predictions and inference.\n",
      "Some weights of ViTModel were not initialized from the model checkpoint at google/vit-base-patch16-224 and are newly initialized: ['vit.pooler.dense.bias', 'vit.pooler.dense.weight']\n",
      "You should probably TRAIN this model on a down-stream task to be able to use it for predictions and inference.\n",
      "Some weights of ViTModel were not initialized from the model checkpoint at google/vit-base-patch16-224 and are newly initialized: ['vit.pooler.dense.bias', 'vit.pooler.dense.weight']\n",
      "You should probably TRAIN this model on a down-stream task to be able to use it for predictions and inference.\n",
      "Some weights of ViTModel were not initialized from the model checkpoint at google/vit-base-patch16-224 and are newly initialized: ['vit.pooler.dense.bias', 'vit.pooler.dense.weight']\n",
      "You should probably TRAIN this model on a down-stream task to be able to use it for predictions and inference.\n",
      "Some weights of ViTModel were not initialized from the model checkpoint at google/vit-base-patch16-224 and are newly initialized: ['vit.pooler.dense.bias', 'vit.pooler.dense.weight']\n",
      "You should probably TRAIN this model on a down-stream task to be able to use it for predictions and inference.\n",
      "Some weights of ViTModel were not initialized from the model checkpoint at google/vit-base-patch16-224 and are newly initialized: ['vit.pooler.dense.bias', 'vit.pooler.dense.weight']\n",
      "You should probably TRAIN this model on a down-stream task to be able to use it for predictions and inference.\n",
      "Some weights of ViTModel were not initialized from the model checkpoint at google/vit-base-patch16-224 and are newly initialized: ['vit.pooler.dense.bias', 'vit.pooler.dense.weight']\n",
      "You should probably TRAIN this model on a down-stream task to be able to use it for predictions and inference.\n",
      "Some weights of ViTModel were not initialized from the model checkpoint at google/vit-base-patch16-224 and are newly initialized: ['vit.pooler.dense.bias', 'vit.pooler.dense.weight']\n",
      "You should probably TRAIN this model on a down-stream task to be able to use it for predictions and inference.\n",
      "/tmp/ipykernel_1946360/2538211480.py:15: DeprecationWarning: `upload_records` is deprecated, use `upload_points` instead\n",
      "  client.upload_records(\n"
     ]
    }
   ],
   "source": [
    "from qdrant_client import QdrantClient, models\n",
    "\n",
    "client = QdrantClient(location=\":memory:\")\n",
    "\n",
    "encoder = ViTModel.from_pretrained(\"google/vit-base-patch16-224\")\n",
    "\n",
    "\n",
    "client.recreate_collection(\n",
    "    collection_name=\"product_image_data\",\n",
    "    vectors_config=models.VectorParams(\n",
    "        size=768, # Vector size is defined by used model\n",
    "        distance=models.Distance.COSINE),\n",
    ")\n",
    "\n",
    "client.upload_records(\n",
    "    collection_name=\"product_image_data\",\n",
    "    records=[\n",
    "        models.Record(\n",
    "            id=idx, \n",
    "            vector=embed_product_image(product),  \n",
    "            payload=product\n",
    "        ) for idx, product in enumerate(products)\n",
    "    ]\n",
    ")\n"
   ]
  },
  {
   "cell_type": "markdown",
   "metadata": {},
   "source": [
    "### Perform a search on the product image"
   ]
  },
  {
   "cell_type": "code",
   "execution_count": 50,
   "metadata": {},
   "outputs": [
    {
     "name": "stderr",
     "output_type": "stream",
     "text": [
      "Some weights of ViTModel were not initialized from the model checkpoint at google/vit-base-patch16-224 and are newly initialized: ['vit.pooler.dense.bias', 'vit.pooler.dense.weight']\n",
      "You should probably TRAIN this model on a down-stream task to be able to use it for predictions and inference.\n"
     ]
    },
    {
     "ename": "ValueError",
     "evalue": "Multivector  is not found in the collection",
     "output_type": "error",
     "traceback": [
      "\u001b[0;31m---------------------------------------------------------------------------\u001b[0m",
      "\u001b[0;31mValueError\u001b[0m                                Traceback (most recent call last)",
      "Cell \u001b[0;32mIn[50], line 2\u001b[0m\n\u001b[1;32m      1\u001b[0m \u001b[38;5;66;03m# Let's now search for something\u001b[39;00m\n\u001b[0;32m----> 2\u001b[0m hits \u001b[38;5;241m=\u001b[39m \u001b[43mclient\u001b[49m\u001b[38;5;241;43m.\u001b[39;49m\u001b[43msearch\u001b[49m\u001b[43m(\u001b[49m\n\u001b[1;32m      3\u001b[0m \u001b[43m    \u001b[49m\u001b[43mcollection_name\u001b[49m\u001b[38;5;241;43m=\u001b[39;49m\u001b[38;5;124;43m\"\u001b[39;49m\u001b[38;5;124;43mproduct_image_data\u001b[39;49m\u001b[38;5;124;43m\"\u001b[39;49m\u001b[43m,\u001b[49m\n\u001b[1;32m      4\u001b[0m \u001b[43m    \u001b[49m\u001b[43mquery_vector\u001b[49m\u001b[38;5;241;43m=\u001b[39;49m\u001b[43membed_product_image\u001b[49m\u001b[43m(\u001b[49m\u001b[43mproduct\u001b[49m\u001b[38;5;241;43m=\u001b[39;49m\u001b[43mproducts\u001b[49m\u001b[43m[\u001b[49m\u001b[38;5;241;43m0\u001b[39;49m\u001b[43m]\u001b[49m\u001b[43m)\u001b[49m\u001b[43m,\u001b[49m\n\u001b[1;32m      5\u001b[0m \u001b[43m    \u001b[49m\u001b[43mlimit\u001b[49m\u001b[38;5;241;43m=\u001b[39;49m\u001b[38;5;241;43m1\u001b[39;49m\n\u001b[1;32m      6\u001b[0m \u001b[43m)\u001b[49m\n\u001b[1;32m      7\u001b[0m \u001b[38;5;28;01mfor\u001b[39;00m hit \u001b[38;5;129;01min\u001b[39;00m hits:\n\u001b[1;32m      8\u001b[0m   \u001b[38;5;28mprint\u001b[39m(\u001b[38;5;124m\"\u001b[39m\u001b[38;5;124mscore:\u001b[39m\u001b[38;5;124m\"\u001b[39m, hit\u001b[38;5;241m.\u001b[39mscore, hit\u001b[38;5;241m.\u001b[39mpayload )\n",
      "File \u001b[0;32m~/anaconda3/envs/ciam2rag/lib/python3.11/site-packages/qdrant_client/qdrant_client.py:353\u001b[0m, in \u001b[0;36mQdrantClient.search\u001b[0;34m(self, collection_name, query_vector, query_filter, search_params, limit, offset, with_payload, with_vectors, score_threshold, append_payload, consistency, shard_key_selector, timeout, **kwargs)\u001b[0m\n\u001b[1;32m    282\u001b[0m \u001b[38;5;250m\u001b[39m\u001b[38;5;124;03m\"\"\"Search for closest vectors in collection taking into account filtering conditions\u001b[39;00m\n\u001b[1;32m    283\u001b[0m \n\u001b[1;32m    284\u001b[0m \u001b[38;5;124;03mArgs:\u001b[39;00m\n\u001b[0;32m   (...)\u001b[0m\n\u001b[1;32m    349\u001b[0m \u001b[38;5;124;03m    List of found close points with similarity scores.\u001b[39;00m\n\u001b[1;32m    350\u001b[0m \u001b[38;5;124;03m\"\"\"\u001b[39;00m\n\u001b[1;32m    351\u001b[0m \u001b[38;5;28;01massert\u001b[39;00m \u001b[38;5;28mlen\u001b[39m(kwargs) \u001b[38;5;241m==\u001b[39m \u001b[38;5;241m0\u001b[39m, \u001b[38;5;124mf\u001b[39m\u001b[38;5;124m\"\u001b[39m\u001b[38;5;124mUnknown arguments: \u001b[39m\u001b[38;5;132;01m{\u001b[39;00m\u001b[38;5;28mlist\u001b[39m(kwargs\u001b[38;5;241m.\u001b[39mkeys())\u001b[38;5;132;01m}\u001b[39;00m\u001b[38;5;124m\"\u001b[39m\n\u001b[0;32m--> 353\u001b[0m \u001b[38;5;28;01mreturn\u001b[39;00m \u001b[38;5;28;43mself\u001b[39;49m\u001b[38;5;241;43m.\u001b[39;49m\u001b[43m_client\u001b[49m\u001b[38;5;241;43m.\u001b[39;49m\u001b[43msearch\u001b[49m\u001b[43m(\u001b[49m\n\u001b[1;32m    354\u001b[0m \u001b[43m    \u001b[49m\u001b[43mcollection_name\u001b[49m\u001b[38;5;241;43m=\u001b[39;49m\u001b[43mcollection_name\u001b[49m\u001b[43m,\u001b[49m\n\u001b[1;32m    355\u001b[0m \u001b[43m    \u001b[49m\u001b[43mquery_vector\u001b[49m\u001b[38;5;241;43m=\u001b[39;49m\u001b[43mquery_vector\u001b[49m\u001b[43m,\u001b[49m\n\u001b[1;32m    356\u001b[0m \u001b[43m    \u001b[49m\u001b[43mquery_filter\u001b[49m\u001b[38;5;241;43m=\u001b[39;49m\u001b[43mquery_filter\u001b[49m\u001b[43m,\u001b[49m\n\u001b[1;32m    357\u001b[0m \u001b[43m    \u001b[49m\u001b[43msearch_params\u001b[49m\u001b[38;5;241;43m=\u001b[39;49m\u001b[43msearch_params\u001b[49m\u001b[43m,\u001b[49m\n\u001b[1;32m    358\u001b[0m \u001b[43m    \u001b[49m\u001b[43mlimit\u001b[49m\u001b[38;5;241;43m=\u001b[39;49m\u001b[43mlimit\u001b[49m\u001b[43m,\u001b[49m\n\u001b[1;32m    359\u001b[0m \u001b[43m    \u001b[49m\u001b[43moffset\u001b[49m\u001b[38;5;241;43m=\u001b[39;49m\u001b[43moffset\u001b[49m\u001b[43m,\u001b[49m\n\u001b[1;32m    360\u001b[0m \u001b[43m    \u001b[49m\u001b[43mwith_payload\u001b[49m\u001b[38;5;241;43m=\u001b[39;49m\u001b[43mwith_payload\u001b[49m\u001b[43m,\u001b[49m\n\u001b[1;32m    361\u001b[0m \u001b[43m    \u001b[49m\u001b[43mwith_vectors\u001b[49m\u001b[38;5;241;43m=\u001b[39;49m\u001b[43mwith_vectors\u001b[49m\u001b[43m,\u001b[49m\n\u001b[1;32m    362\u001b[0m \u001b[43m    \u001b[49m\u001b[43mscore_threshold\u001b[49m\u001b[38;5;241;43m=\u001b[39;49m\u001b[43mscore_threshold\u001b[49m\u001b[43m,\u001b[49m\n\u001b[1;32m    363\u001b[0m \u001b[43m    \u001b[49m\u001b[43mappend_payload\u001b[49m\u001b[38;5;241;43m=\u001b[39;49m\u001b[43mappend_payload\u001b[49m\u001b[43m,\u001b[49m\n\u001b[1;32m    364\u001b[0m \u001b[43m    \u001b[49m\u001b[43mconsistency\u001b[49m\u001b[38;5;241;43m=\u001b[39;49m\u001b[43mconsistency\u001b[49m\u001b[43m,\u001b[49m\n\u001b[1;32m    365\u001b[0m \u001b[43m    \u001b[49m\u001b[43mshard_key_selector\u001b[49m\u001b[38;5;241;43m=\u001b[39;49m\u001b[43mshard_key_selector\u001b[49m\u001b[43m,\u001b[49m\n\u001b[1;32m    366\u001b[0m \u001b[43m    \u001b[49m\u001b[43mtimeout\u001b[49m\u001b[38;5;241;43m=\u001b[39;49m\u001b[43mtimeout\u001b[49m\u001b[43m,\u001b[49m\n\u001b[1;32m    367\u001b[0m \u001b[43m    \u001b[49m\u001b[38;5;241;43m*\u001b[39;49m\u001b[38;5;241;43m*\u001b[39;49m\u001b[43mkwargs\u001b[49m\u001b[43m,\u001b[49m\n\u001b[1;32m    368\u001b[0m \u001b[43m\u001b[49m\u001b[43m)\u001b[49m\n",
      "File \u001b[0;32m~/anaconda3/envs/ciam2rag/lib/python3.11/site-packages/qdrant_client/local/qdrant_local.py:202\u001b[0m, in \u001b[0;36mQdrantLocal.search\u001b[0;34m(self, collection_name, query_vector, query_filter, search_params, limit, offset, with_payload, with_vectors, score_threshold, **kwargs)\u001b[0m\n\u001b[1;32m    182\u001b[0m \u001b[38;5;28;01mdef\u001b[39;00m \u001b[38;5;21msearch\u001b[39m(\n\u001b[1;32m    183\u001b[0m     \u001b[38;5;28mself\u001b[39m,\n\u001b[1;32m    184\u001b[0m     collection_name: \u001b[38;5;28mstr\u001b[39m,\n\u001b[0;32m   (...)\u001b[0m\n\u001b[1;32m    199\u001b[0m     \u001b[38;5;241m*\u001b[39m\u001b[38;5;241m*\u001b[39mkwargs: Any,\n\u001b[1;32m    200\u001b[0m ) \u001b[38;5;241m-\u001b[39m\u001b[38;5;241m>\u001b[39m List[types\u001b[38;5;241m.\u001b[39mScoredPoint]:\n\u001b[1;32m    201\u001b[0m     collection \u001b[38;5;241m=\u001b[39m \u001b[38;5;28mself\u001b[39m\u001b[38;5;241m.\u001b[39m_get_collection(collection_name)\n\u001b[0;32m--> 202\u001b[0m     \u001b[38;5;28;01mreturn\u001b[39;00m \u001b[43mcollection\u001b[49m\u001b[38;5;241;43m.\u001b[39;49m\u001b[43msearch\u001b[49m\u001b[43m(\u001b[49m\n\u001b[1;32m    203\u001b[0m \u001b[43m        \u001b[49m\u001b[43mquery_vector\u001b[49m\u001b[38;5;241;43m=\u001b[39;49m\u001b[43mquery_vector\u001b[49m\u001b[43m,\u001b[49m\n\u001b[1;32m    204\u001b[0m \u001b[43m        \u001b[49m\u001b[43mquery_filter\u001b[49m\u001b[38;5;241;43m=\u001b[39;49m\u001b[43mquery_filter\u001b[49m\u001b[43m,\u001b[49m\n\u001b[1;32m    205\u001b[0m \u001b[43m        \u001b[49m\u001b[43mlimit\u001b[49m\u001b[38;5;241;43m=\u001b[39;49m\u001b[43mlimit\u001b[49m\u001b[43m,\u001b[49m\n\u001b[1;32m    206\u001b[0m \u001b[43m        \u001b[49m\u001b[43moffset\u001b[49m\u001b[38;5;241;43m=\u001b[39;49m\u001b[43moffset\u001b[49m\u001b[43m,\u001b[49m\n\u001b[1;32m    207\u001b[0m \u001b[43m        \u001b[49m\u001b[43mwith_payload\u001b[49m\u001b[38;5;241;43m=\u001b[39;49m\u001b[43mwith_payload\u001b[49m\u001b[43m,\u001b[49m\n\u001b[1;32m    208\u001b[0m \u001b[43m        \u001b[49m\u001b[43mwith_vectors\u001b[49m\u001b[38;5;241;43m=\u001b[39;49m\u001b[43mwith_vectors\u001b[49m\u001b[43m,\u001b[49m\n\u001b[1;32m    209\u001b[0m \u001b[43m        \u001b[49m\u001b[43mscore_threshold\u001b[49m\u001b[38;5;241;43m=\u001b[39;49m\u001b[43mscore_threshold\u001b[49m\u001b[43m,\u001b[49m\n\u001b[1;32m    210\u001b[0m \u001b[43m    \u001b[49m\u001b[43m)\u001b[49m\n",
      "File \u001b[0;32m~/anaconda3/envs/ciam2rag/lib/python3.11/site-packages/qdrant_client/local/local_collection.py:551\u001b[0m, in \u001b[0;36mLocalCollection.search\u001b[0;34m(self, query_vector, query_filter, limit, offset, with_payload, with_vectors, score_threshold)\u001b[0m\n\u001b[1;32m    547\u001b[0m \u001b[38;5;28;01melif\u001b[39;00m \u001b[38;5;28misinstance\u001b[39m(query_vector, get_args(MultiQueryVector)) \u001b[38;5;129;01mor\u001b[39;00m (\n\u001b[1;32m    548\u001b[0m     \u001b[38;5;28misinstance\u001b[39m(query_vector, np\u001b[38;5;241m.\u001b[39mndarray) \u001b[38;5;129;01mand\u001b[39;00m \u001b[38;5;28mlen\u001b[39m(query_vector\u001b[38;5;241m.\u001b[39mshape) \u001b[38;5;241m==\u001b[39m \u001b[38;5;241m2\u001b[39m\n\u001b[1;32m    549\u001b[0m ):\n\u001b[1;32m    550\u001b[0m     \u001b[38;5;28;01mif\u001b[39;00m name \u001b[38;5;129;01mnot\u001b[39;00m \u001b[38;5;129;01min\u001b[39;00m \u001b[38;5;28mself\u001b[39m\u001b[38;5;241m.\u001b[39mmultivectors:\n\u001b[0;32m--> 551\u001b[0m         \u001b[38;5;28;01mraise\u001b[39;00m \u001b[38;5;167;01mValueError\u001b[39;00m(\u001b[38;5;124mf\u001b[39m\u001b[38;5;124m\"\u001b[39m\u001b[38;5;124mMultivector \u001b[39m\u001b[38;5;132;01m{\u001b[39;00mname\u001b[38;5;132;01m}\u001b[39;00m\u001b[38;5;124m is not found in the collection\u001b[39m\u001b[38;5;124m\"\u001b[39m)\n\u001b[1;32m    552\u001b[0m     vectors \u001b[38;5;241m=\u001b[39m \u001b[38;5;28mself\u001b[39m\u001b[38;5;241m.\u001b[39mmultivectors[name]\n\u001b[1;32m    553\u001b[0m     distance \u001b[38;5;241m=\u001b[39m \u001b[38;5;28mself\u001b[39m\u001b[38;5;241m.\u001b[39mget_vector_params(name)\u001b[38;5;241m.\u001b[39mdistance\n",
      "\u001b[0;31mValueError\u001b[0m: Multivector  is not found in the collection"
     ]
    }
   ],
   "source": [
    "\n",
    "# Let's now search for something\n",
    "hits = client.search(\n",
    "    collection_name=\"product_image_data\",\n",
    "    query_vector=embed_product_image(product=products[0]),\n",
    "    limit=1\n",
    ")\n",
    "for hit in hits:\n",
    "  print(\"score:\", hit.score, hit.payload )"
   ]
  }
 ],
 "metadata": {
  "kernelspec": {
   "display_name": "env",
   "language": "python",
   "name": "python3"
  },
  "language_info": {
   "codemirror_mode": {
    "name": "ipython",
    "version": 3
   },
   "file_extension": ".py",
   "mimetype": "text/x-python",
   "name": "python",
   "nbconvert_exporter": "python",
   "pygments_lexer": "ipython3",
   "version": "3.11.5"
  }
 },
 "nbformat": 4,
 "nbformat_minor": 2
}
